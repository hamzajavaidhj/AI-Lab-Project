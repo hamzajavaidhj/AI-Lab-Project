{
 "cells": [
  {
   "cell_type": "code",
   "execution_count": 1,
   "metadata": {},
   "outputs": [],
   "source": [
    "import numpy as np\n",
    "import pandas as pd\n"
   ]
  },
  {
   "cell_type": "code",
   "execution_count": 2,
   "metadata": {},
   "outputs": [
    {
     "data": {
      "text/html": [
       "<div>\n",
       "<style scoped>\n",
       "    .dataframe tbody tr th:only-of-type {\n",
       "        vertical-align: middle;\n",
       "    }\n",
       "\n",
       "    .dataframe tbody tr th {\n",
       "        vertical-align: top;\n",
       "    }\n",
       "\n",
       "    .dataframe thead th {\n",
       "        text-align: right;\n",
       "    }\n",
       "</style>\n",
       "<table border=\"1\" class=\"dataframe\">\n",
       "  <thead>\n",
       "    <tr style=\"text-align: right;\">\n",
       "      <th></th>\n",
       "      <th>Player</th>\n",
       "      <th>Runs</th>\n",
       "      <th>Balls</th>\n",
       "      <th>4s</th>\n",
       "      <th>6s</th>\n",
       "      <th>SR</th>\n",
       "      <th>Team</th>\n",
       "      <th>Opposition</th>\n",
       "      <th>Ground</th>\n",
       "      <th>Match Date</th>\n",
       "    </tr>\n",
       "  </thead>\n",
       "  <tbody>\n",
       "    <tr>\n",
       "      <th>0</th>\n",
       "      <td>BR Dunk</td>\n",
       "      <td>99*</td>\n",
       "      <td>40</td>\n",
       "      <td>3</td>\n",
       "      <td>12</td>\n",
       "      <td>247.50</td>\n",
       "      <td>Qalandars</td>\n",
       "      <td>v Kings</td>\n",
       "      <td>Lahore</td>\n",
       "      <td>8 Mar 2020</td>\n",
       "    </tr>\n",
       "    <tr>\n",
       "      <th>1</th>\n",
       "      <td>BR Dunk</td>\n",
       "      <td>93</td>\n",
       "      <td>43</td>\n",
       "      <td>3</td>\n",
       "      <td>10</td>\n",
       "      <td>216.27</td>\n",
       "      <td>Qalandars</td>\n",
       "      <td>v Gladiators</td>\n",
       "      <td>Lahore</td>\n",
       "      <td>3 Mar 2020</td>\n",
       "    </tr>\n",
       "    <tr>\n",
       "      <th>2</th>\n",
       "      <td>Umar Akmal</td>\n",
       "      <td>93</td>\n",
       "      <td>40</td>\n",
       "      <td>6</td>\n",
       "      <td>8</td>\n",
       "      <td>232.50</td>\n",
       "      <td>Qalandars</td>\n",
       "      <td>v Gladiators</td>\n",
       "      <td>Dubai (DSC)</td>\n",
       "      <td>8 Feb 2016</td>\n",
       "    </tr>\n",
       "    <tr>\n",
       "      <th>3</th>\n",
       "      <td>Sharjeel Khan</td>\n",
       "      <td>117</td>\n",
       "      <td>62</td>\n",
       "      <td>12</td>\n",
       "      <td>8</td>\n",
       "      <td>188.70</td>\n",
       "      <td>United</td>\n",
       "      <td>v Zalmi</td>\n",
       "      <td>Dubai (DSC)</td>\n",
       "      <td>21 Feb 2016</td>\n",
       "    </tr>\n",
       "    <tr>\n",
       "      <th>4</th>\n",
       "      <td>KP Pietersen</td>\n",
       "      <td>88*</td>\n",
       "      <td>42</td>\n",
       "      <td>3</td>\n",
       "      <td>8</td>\n",
       "      <td>209.52</td>\n",
       "      <td>Gladiators</td>\n",
       "      <td>v Qalandars</td>\n",
       "      <td>Sharjah</td>\n",
       "      <td>18 Feb 2017</td>\n",
       "    </tr>\n",
       "    <tr>\n",
       "      <th>5</th>\n",
       "      <td>Kamran Akmal</td>\n",
       "      <td>77</td>\n",
       "      <td>27</td>\n",
       "      <td>5</td>\n",
       "      <td>8</td>\n",
       "      <td>285.18</td>\n",
       "      <td>Zalmi</td>\n",
       "      <td>v Kings</td>\n",
       "      <td>Lahore</td>\n",
       "      <td>21 Mar 2018</td>\n",
       "    </tr>\n",
       "    <tr>\n",
       "      <th>6</th>\n",
       "      <td>CA Ingram</td>\n",
       "      <td>127*</td>\n",
       "      <td>59</td>\n",
       "      <td>12</td>\n",
       "      <td>8</td>\n",
       "      <td>215.25</td>\n",
       "      <td>Kings</td>\n",
       "      <td>v Gladiators</td>\n",
       "      <td>Sharjah</td>\n",
       "      <td>24 Feb 2019</td>\n",
       "    </tr>\n",
       "    <tr>\n",
       "      <th>7</th>\n",
       "      <td>CA Lynn</td>\n",
       "      <td>113*</td>\n",
       "      <td>55</td>\n",
       "      <td>12</td>\n",
       "      <td>8</td>\n",
       "      <td>205.45</td>\n",
       "      <td>Qalandars</td>\n",
       "      <td>v Sultans</td>\n",
       "      <td>Lahore</td>\n",
       "      <td>15 Mar 2020</td>\n",
       "    </tr>\n",
       "    <tr>\n",
       "      <th>8</th>\n",
       "      <td>SR Watson</td>\n",
       "      <td>79</td>\n",
       "      <td>47</td>\n",
       "      <td>4</td>\n",
       "      <td>7</td>\n",
       "      <td>168.08</td>\n",
       "      <td>United</td>\n",
       "      <td>v Qalandars</td>\n",
       "      <td>Sharjah</td>\n",
       "      <td>10 Feb 2016</td>\n",
       "    </tr>\n",
       "    <tr>\n",
       "      <th>9</th>\n",
       "      <td>Sharjeel Khan</td>\n",
       "      <td>79*</td>\n",
       "      <td>43</td>\n",
       "      <td>5</td>\n",
       "      <td>7</td>\n",
       "      <td>183.72</td>\n",
       "      <td>United</td>\n",
       "      <td>v Qalandars</td>\n",
       "      <td>Sharjah</td>\n",
       "      <td>10 Feb 2016</td>\n",
       "    </tr>\n",
       "    <tr>\n",
       "      <th>10</th>\n",
       "      <td>Kamran Akmal</td>\n",
       "      <td>104</td>\n",
       "      <td>65</td>\n",
       "      <td>6</td>\n",
       "      <td>7</td>\n",
       "      <td>160.00</td>\n",
       "      <td>Zalmi</td>\n",
       "      <td>v Kings</td>\n",
       "      <td>Dubai (DSC)</td>\n",
       "      <td>3 Mar 2017</td>\n",
       "    </tr>\n",
       "    <tr>\n",
       "      <th>11</th>\n",
       "      <td>Sohaib Maqsood</td>\n",
       "      <td>85*</td>\n",
       "      <td>42</td>\n",
       "      <td>4</td>\n",
       "      <td>7</td>\n",
       "      <td>202.38</td>\n",
       "      <td>Sultans</td>\n",
       "      <td>v Zalmi</td>\n",
       "      <td>Dubai (DSC)</td>\n",
       "      <td>6 Mar 2018</td>\n",
       "    </tr>\n",
       "    <tr>\n",
       "      <th>12</th>\n",
       "      <td>SR Watson</td>\n",
       "      <td>90*</td>\n",
       "      <td>58</td>\n",
       "      <td>5</td>\n",
       "      <td>7</td>\n",
       "      <td>155.17</td>\n",
       "      <td>Gladiators</td>\n",
       "      <td>v Kings</td>\n",
       "      <td>Dubai (DSC)</td>\n",
       "      <td>8 Mar 2018</td>\n",
       "    </tr>\n",
       "    <tr>\n",
       "      <th>13</th>\n",
       "      <td>AP Devcich</td>\n",
       "      <td>70</td>\n",
       "      <td>42</td>\n",
       "      <td>2</td>\n",
       "      <td>7</td>\n",
       "      <td>166.66</td>\n",
       "      <td>Qalandars</td>\n",
       "      <td>v Zalmi</td>\n",
       "      <td>Sharjah</td>\n",
       "      <td>16 Mar 2018</td>\n",
       "    </tr>\n",
       "    <tr>\n",
       "      <th>14</th>\n",
       "      <td>Kamran Akmal</td>\n",
       "      <td>107*</td>\n",
       "      <td>61</td>\n",
       "      <td>11</td>\n",
       "      <td>7</td>\n",
       "      <td>175.40</td>\n",
       "      <td>Zalmi</td>\n",
       "      <td>v Qalandars</td>\n",
       "      <td>Sharjah</td>\n",
       "      <td>16 Mar 2018</td>\n",
       "    </tr>\n",
       "    <tr>\n",
       "      <th>15</th>\n",
       "      <td>Mohammad Hafeez</td>\n",
       "      <td>98*</td>\n",
       "      <td>57</td>\n",
       "      <td>7</td>\n",
       "      <td>7</td>\n",
       "      <td>171.92</td>\n",
       "      <td>Qalandars</td>\n",
       "      <td>v United</td>\n",
       "      <td>Lahore</td>\n",
       "      <td>23 Feb 2020</td>\n",
       "    </tr>\n",
       "    <tr>\n",
       "      <th>16</th>\n",
       "      <td>SR Watson</td>\n",
       "      <td>80</td>\n",
       "      <td>41</td>\n",
       "      <td>7</td>\n",
       "      <td>7</td>\n",
       "      <td>195.12</td>\n",
       "      <td>Gladiators</td>\n",
       "      <td>v Sultans</td>\n",
       "      <td>Multan</td>\n",
       "      <td>29 Feb 2020</td>\n",
       "    </tr>\n",
       "    <tr>\n",
       "      <th>17</th>\n",
       "      <td>CH Gayle</td>\n",
       "      <td>60</td>\n",
       "      <td>34</td>\n",
       "      <td>3</td>\n",
       "      <td>6</td>\n",
       "      <td>176.47</td>\n",
       "      <td>Qalandars</td>\n",
       "      <td>v Gladiators</td>\n",
       "      <td>Dubai (DSC)</td>\n",
       "      <td>16 Feb 2016</td>\n",
       "    </tr>\n",
       "    <tr>\n",
       "      <th>18</th>\n",
       "      <td>BJ Hodge</td>\n",
       "      <td>85*</td>\n",
       "      <td>45</td>\n",
       "      <td>6</td>\n",
       "      <td>6</td>\n",
       "      <td>188.88</td>\n",
       "      <td>Zalmi</td>\n",
       "      <td>v Kings</td>\n",
       "      <td>Dubai (DSC)</td>\n",
       "      <td>17 Feb 2016</td>\n",
       "    </tr>\n",
       "    <tr>\n",
       "      <th>19</th>\n",
       "      <td>Kamran Akmal</td>\n",
       "      <td>88</td>\n",
       "      <td>48</td>\n",
       "      <td>6</td>\n",
       "      <td>6</td>\n",
       "      <td>183.33</td>\n",
       "      <td>Zalmi</td>\n",
       "      <td>v United</td>\n",
       "      <td>Dubai (DSC)</td>\n",
       "      <td>9 Feb 2017</td>\n",
       "    </tr>\n",
       "    <tr>\n",
       "      <th>20</th>\n",
       "      <td>Mohammad Hafeez</td>\n",
       "      <td>77</td>\n",
       "      <td>47</td>\n",
       "      <td>5</td>\n",
       "      <td>6</td>\n",
       "      <td>163.82</td>\n",
       "      <td>Zalmi</td>\n",
       "      <td>v Gladiators</td>\n",
       "      <td>Sharjah</td>\n",
       "      <td>28 Feb 2017</td>\n",
       "    </tr>\n",
       "    <tr>\n",
       "      <th>21</th>\n",
       "      <td>L Ronchi</td>\n",
       "      <td>77</td>\n",
       "      <td>41</td>\n",
       "      <td>5</td>\n",
       "      <td>6</td>\n",
       "      <td>187.80</td>\n",
       "      <td>United</td>\n",
       "      <td>v Qalandars</td>\n",
       "      <td>Dubai (DSC)</td>\n",
       "      <td>8 Mar 2018</td>\n",
       "    </tr>\n",
       "    <tr>\n",
       "      <th>22</th>\n",
       "      <td>KA Pollard</td>\n",
       "      <td>73</td>\n",
       "      <td>47</td>\n",
       "      <td>5</td>\n",
       "      <td>6</td>\n",
       "      <td>155.31</td>\n",
       "      <td>Sultans</td>\n",
       "      <td>v United</td>\n",
       "      <td>Sharjah</td>\n",
       "      <td>13 Mar 2018</td>\n",
       "    </tr>\n",
       "    <tr>\n",
       "      <th>23</th>\n",
       "      <td>Fakhar Zaman</td>\n",
       "      <td>94</td>\n",
       "      <td>50</td>\n",
       "      <td>9</td>\n",
       "      <td>6</td>\n",
       "      <td>188.00</td>\n",
       "      <td>Qalandars</td>\n",
       "      <td>v Gladiators</td>\n",
       "      <td>Sharjah</td>\n",
       "      <td>14 Mar 2018</td>\n",
       "    </tr>\n",
       "    <tr>\n",
       "      <th>24</th>\n",
       "      <td>Kamran Akmal</td>\n",
       "      <td>75</td>\n",
       "      <td>51</td>\n",
       "      <td>3</td>\n",
       "      <td>6</td>\n",
       "      <td>147.05</td>\n",
       "      <td>Zalmi</td>\n",
       "      <td>v Kings</td>\n",
       "      <td>Sharjah</td>\n",
       "      <td>15 Mar 2018</td>\n",
       "    </tr>\n",
       "    <tr>\n",
       "      <th>25</th>\n",
       "      <td>CA Ingram</td>\n",
       "      <td>68*</td>\n",
       "      <td>39</td>\n",
       "      <td>1</td>\n",
       "      <td>6</td>\n",
       "      <td>174.35</td>\n",
       "      <td>Kings</td>\n",
       "      <td>v United</td>\n",
       "      <td>Dubai (DSC)</td>\n",
       "      <td>18 Mar 2018</td>\n",
       "    </tr>\n",
       "    <tr>\n",
       "      <th>26</th>\n",
       "      <td>LS Livingstone</td>\n",
       "      <td>82</td>\n",
       "      <td>43</td>\n",
       "      <td>6</td>\n",
       "      <td>6</td>\n",
       "      <td>190.69</td>\n",
       "      <td>Kings</td>\n",
       "      <td>v Sultans</td>\n",
       "      <td>Dubai (DSC)</td>\n",
       "      <td>15 Feb 2019</td>\n",
       "    </tr>\n",
       "    <tr>\n",
       "      <th>27</th>\n",
       "      <td>JM Vince</td>\n",
       "      <td>84</td>\n",
       "      <td>41</td>\n",
       "      <td>7</td>\n",
       "      <td>6</td>\n",
       "      <td>204.87</td>\n",
       "      <td>Sultans</td>\n",
       "      <td>v Qalandars</td>\n",
       "      <td>Sharjah</td>\n",
       "      <td>22 Feb 2019</td>\n",
       "    </tr>\n",
       "    <tr>\n",
       "      <th>28</th>\n",
       "      <td>Asif Ali</td>\n",
       "      <td>70</td>\n",
       "      <td>38</td>\n",
       "      <td>5</td>\n",
       "      <td>6</td>\n",
       "      <td>184.21</td>\n",
       "      <td>United</td>\n",
       "      <td>v Kings</td>\n",
       "      <td>Dubai (DSC)</td>\n",
       "      <td>27 Feb 2019</td>\n",
       "    </tr>\n",
       "    <tr>\n",
       "      <th>29</th>\n",
       "      <td>SR Watson</td>\n",
       "      <td>91*</td>\n",
       "      <td>55</td>\n",
       "      <td>6</td>\n",
       "      <td>6</td>\n",
       "      <td>165.45</td>\n",
       "      <td>Gladiators</td>\n",
       "      <td>v Zalmi</td>\n",
       "      <td>Abu Dhabi</td>\n",
       "      <td>4 Mar 2019</td>\n",
       "    </tr>\n",
       "    <tr>\n",
       "      <th>30</th>\n",
       "      <td>CS Delport</td>\n",
       "      <td>117*</td>\n",
       "      <td>60</td>\n",
       "      <td>13</td>\n",
       "      <td>6</td>\n",
       "      <td>195.00</td>\n",
       "      <td>United</td>\n",
       "      <td>v Qalandars</td>\n",
       "      <td>Karachi</td>\n",
       "      <td>9 Mar 2019</td>\n",
       "    </tr>\n",
       "    <tr>\n",
       "      <th>31</th>\n",
       "      <td>Asif Ali</td>\n",
       "      <td>55*</td>\n",
       "      <td>21</td>\n",
       "      <td>3</td>\n",
       "      <td>6</td>\n",
       "      <td>261.90</td>\n",
       "      <td>United</td>\n",
       "      <td>v Qalandars</td>\n",
       "      <td>Karachi</td>\n",
       "      <td>9 Mar 2019</td>\n",
       "    </tr>\n",
       "    <tr>\n",
       "      <th>32</th>\n",
       "      <td>Ahmed Shehzad</td>\n",
       "      <td>99</td>\n",
       "      <td>57</td>\n",
       "      <td>8</td>\n",
       "      <td>6</td>\n",
       "      <td>173.68</td>\n",
       "      <td>Gladiators</td>\n",
       "      <td>v Kings</td>\n",
       "      <td>Karachi</td>\n",
       "      <td>10 Mar 2019</td>\n",
       "    </tr>\n",
       "    <tr>\n",
       "      <th>33</th>\n",
       "      <td>SR Watson</td>\n",
       "      <td>71</td>\n",
       "      <td>43</td>\n",
       "      <td>5</td>\n",
       "      <td>6</td>\n",
       "      <td>165.11</td>\n",
       "      <td>Gladiators</td>\n",
       "      <td>v Zalmi</td>\n",
       "      <td>Karachi</td>\n",
       "      <td>13 Mar 2019</td>\n",
       "    </tr>\n",
       "    <tr>\n",
       "      <th>34</th>\n",
       "      <td>RR Rossouw</td>\n",
       "      <td>100*</td>\n",
       "      <td>44</td>\n",
       "      <td>10</td>\n",
       "      <td>6</td>\n",
       "      <td>227.27</td>\n",
       "      <td>Sultans</td>\n",
       "      <td>v Gladiators</td>\n",
       "      <td>Multan</td>\n",
       "      <td>29 Feb 2020</td>\n",
       "    </tr>\n",
       "    <tr>\n",
       "      <th>35</th>\n",
       "      <td>Khushdil Shah</td>\n",
       "      <td>70*</td>\n",
       "      <td>29</td>\n",
       "      <td>5</td>\n",
       "      <td>6</td>\n",
       "      <td>241.37</td>\n",
       "      <td>Sultans</td>\n",
       "      <td>v Qalandars</td>\n",
       "      <td>Lahore</td>\n",
       "      <td>15 Mar 2020</td>\n",
       "    </tr>\n",
       "  </tbody>\n",
       "</table>\n",
       "</div>"
      ],
      "text/plain": [
       "             Player  Runs  Balls  4s  6s      SR        Team    Opposition  \\\n",
       "0           BR Dunk   99*     40   3  12  247.50   Qalandars       v Kings   \n",
       "1           BR Dunk    93     43   3  10  216.27   Qalandars  v Gladiators   \n",
       "2        Umar Akmal    93     40   6   8  232.50   Qalandars  v Gladiators   \n",
       "3     Sharjeel Khan   117     62  12   8  188.70      United       v Zalmi   \n",
       "4      KP Pietersen   88*     42   3   8  209.52  Gladiators   v Qalandars   \n",
       "5      Kamran Akmal    77     27   5   8  285.18       Zalmi       v Kings   \n",
       "6         CA Ingram  127*     59  12   8  215.25       Kings  v Gladiators   \n",
       "7           CA Lynn  113*     55  12   8  205.45   Qalandars     v Sultans   \n",
       "8         SR Watson    79     47   4   7  168.08      United   v Qalandars   \n",
       "9     Sharjeel Khan   79*     43   5   7  183.72      United   v Qalandars   \n",
       "10     Kamran Akmal   104     65   6   7  160.00       Zalmi       v Kings   \n",
       "11   Sohaib Maqsood   85*     42   4   7  202.38     Sultans       v Zalmi   \n",
       "12        SR Watson   90*     58   5   7  155.17  Gladiators       v Kings   \n",
       "13       AP Devcich    70     42   2   7  166.66   Qalandars       v Zalmi   \n",
       "14     Kamran Akmal  107*     61  11   7  175.40       Zalmi   v Qalandars   \n",
       "15  Mohammad Hafeez   98*     57   7   7  171.92   Qalandars      v United   \n",
       "16        SR Watson    80     41   7   7  195.12  Gladiators     v Sultans   \n",
       "17         CH Gayle    60     34   3   6  176.47   Qalandars  v Gladiators   \n",
       "18         BJ Hodge   85*     45   6   6  188.88       Zalmi       v Kings   \n",
       "19     Kamran Akmal    88     48   6   6  183.33       Zalmi      v United   \n",
       "20  Mohammad Hafeez    77     47   5   6  163.82       Zalmi  v Gladiators   \n",
       "21         L Ronchi    77     41   5   6  187.80      United   v Qalandars   \n",
       "22       KA Pollard    73     47   5   6  155.31     Sultans      v United   \n",
       "23     Fakhar Zaman    94     50   9   6  188.00   Qalandars  v Gladiators   \n",
       "24     Kamran Akmal    75     51   3   6  147.05       Zalmi       v Kings   \n",
       "25        CA Ingram   68*     39   1   6  174.35       Kings      v United   \n",
       "26   LS Livingstone    82     43   6   6  190.69       Kings     v Sultans   \n",
       "27         JM Vince    84     41   7   6  204.87     Sultans   v Qalandars   \n",
       "28         Asif Ali    70     38   5   6  184.21      United       v Kings   \n",
       "29        SR Watson   91*     55   6   6  165.45  Gladiators       v Zalmi   \n",
       "30       CS Delport  117*     60  13   6  195.00      United   v Qalandars   \n",
       "31         Asif Ali   55*     21   3   6  261.90      United   v Qalandars   \n",
       "32    Ahmed Shehzad    99     57   8   6  173.68  Gladiators       v Kings   \n",
       "33        SR Watson    71     43   5   6  165.11  Gladiators       v Zalmi   \n",
       "34       RR Rossouw  100*     44  10   6  227.27     Sultans  v Gladiators   \n",
       "35    Khushdil Shah   70*     29   5   6  241.37     Sultans   v Qalandars   \n",
       "\n",
       "         Ground   Match Date  \n",
       "0        Lahore   8 Mar 2020  \n",
       "1        Lahore   3 Mar 2020  \n",
       "2   Dubai (DSC)   8 Feb 2016  \n",
       "3   Dubai (DSC)  21 Feb 2016  \n",
       "4       Sharjah  18 Feb 2017  \n",
       "5        Lahore  21 Mar 2018  \n",
       "6       Sharjah  24 Feb 2019  \n",
       "7        Lahore  15 Mar 2020  \n",
       "8       Sharjah  10 Feb 2016  \n",
       "9       Sharjah  10 Feb 2016  \n",
       "10  Dubai (DSC)   3 Mar 2017  \n",
       "11  Dubai (DSC)   6 Mar 2018  \n",
       "12  Dubai (DSC)   8 Mar 2018  \n",
       "13      Sharjah  16 Mar 2018  \n",
       "14      Sharjah  16 Mar 2018  \n",
       "15       Lahore  23 Feb 2020  \n",
       "16       Multan  29 Feb 2020  \n",
       "17  Dubai (DSC)  16 Feb 2016  \n",
       "18  Dubai (DSC)  17 Feb 2016  \n",
       "19  Dubai (DSC)   9 Feb 2017  \n",
       "20      Sharjah  28 Feb 2017  \n",
       "21  Dubai (DSC)   8 Mar 2018  \n",
       "22      Sharjah  13 Mar 2018  \n",
       "23      Sharjah  14 Mar 2018  \n",
       "24      Sharjah  15 Mar 2018  \n",
       "25  Dubai (DSC)  18 Mar 2018  \n",
       "26  Dubai (DSC)  15 Feb 2019  \n",
       "27      Sharjah  22 Feb 2019  \n",
       "28  Dubai (DSC)  27 Feb 2019  \n",
       "29    Abu Dhabi   4 Mar 2019  \n",
       "30      Karachi   9 Mar 2019  \n",
       "31      Karachi   9 Mar 2019  \n",
       "32      Karachi  10 Mar 2019  \n",
       "33      Karachi  13 Mar 2019  \n",
       "34       Multan  29 Feb 2020  \n",
       "35       Lahore  15 Mar 2020  "
      ]
     },
     "execution_count": 2,
     "metadata": {},
     "output_type": "execute_result"
    }
   ],
   "source": [
    "df = pd.read_csv('Most sixes in an innings in PSL.csv')\n",
    "df "
   ]
  },
  {
   "cell_type": "code",
   "execution_count": 3,
   "metadata": {},
   "outputs": [
    {
     "data": {
      "text/plain": [
       "Player        0\n",
       "Runs          0\n",
       "Balls         0\n",
       "4s            0\n",
       "6s            0\n",
       "SR            0\n",
       "Team          0\n",
       "Opposition    0\n",
       "Ground        0\n",
       "Match Date    0\n",
       "dtype: int64"
      ]
     },
     "execution_count": 3,
     "metadata": {},
     "output_type": "execute_result"
    }
   ],
   "source": [
    "df.isnull().sum()"
   ]
  },
  {
   "cell_type": "code",
   "execution_count": 4,
   "metadata": {},
   "outputs": [
    {
     "data": {
      "text/plain": [
       "(   Runs  6s  mostly_sixes\n",
       " 0    99  12          True\n",
       " 1    93  10          True\n",
       " 2    93   8          True\n",
       " 3   117   8         False\n",
       " 4    88   8          True,\n",
       "    Balls  4s  6s      SR\n",
       " 0     40   3  12  247.50\n",
       " 1     43   3  10  216.27\n",
       " 2     40   6   8  232.50\n",
       " 3     62  12   8  188.70\n",
       " 4     42   3   8  209.52,\n",
       " 0     True\n",
       " 1     True\n",
       " 2     True\n",
       " 3    False\n",
       " 4     True\n",
       " Name: mostly_sixes, dtype: bool)"
      ]
     },
     "execution_count": 4,
     "metadata": {},
     "output_type": "execute_result"
    }
   ],
   "source": [
    "\n",
    "df['Runs'] = df['Runs'].astype(str).str.replace('*', '', regex=False).astype(int)\n",
    "df['mostly_sixes'] = (df['6s'] * 6) > (0.5 * df['Runs'])\n",
    "features = df[['Balls', '4s', '6s', 'SR']]\n",
    "target = df['mostly_sixes']\n",
    "df[['Runs', '6s', 'mostly_sixes']].head(), features.head(), target.head()\n"
   ]
  },
  {
   "cell_type": "code",
   "execution_count": 5,
   "metadata": {},
   "outputs": [
    {
     "data": {
      "text/plain": [
       "(0.7272727272727273,\n",
       " '              precision    recall  f1-score   support\\n\\n       False       0.60      0.75      0.67         4\\n        True       0.83      0.71      0.77         7\\n\\n    accuracy                           0.73        11\\n   macro avg       0.72      0.73      0.72        11\\nweighted avg       0.75      0.73      0.73        11\\n')"
      ]
     },
     "execution_count": 5,
     "metadata": {},
     "output_type": "execute_result"
    }
   ],
   "source": [
    "from sklearn.model_selection import train_test_split\n",
    "from sklearn.ensemble import RandomForestClassifier\n",
    "from sklearn.metrics import classification_report, accuracy_score\n",
    "X_train, X_test, y_train, y_test = train_test_split(features, target, test_size=0.3, random_state=42)\n",
    "model = RandomForestClassifier(random_state=42)\n",
    "model.fit(X_train, y_train)\n",
    "y_pred = model.predict(X_test)\n",
    "accuracy = accuracy_score(y_test, y_pred)\n",
    "report = classification_report(y_test, y_pred)\n",
    "accuracy, report\n"
   ]
  },
  {
   "cell_type": "code",
   "execution_count": 6,
   "metadata": {},
   "outputs": [
    {
     "data": {
      "application/vnd.plotly.v1+json": {
       "config": {
        "plotlyServerURL": "https://plot.ly"
       },
       "data": [
        {
         "cells": {
          "values": [
           [
            "Accuracy",
            "Precision",
            "Recall",
            "F1"
           ],
           [
            0.7272727272727273,
            0.86,
            0.86,
            0.86
           ]
          ]
         },
         "header": {
          "values": [
           "Metric",
           "Value"
          ]
         },
         "type": "table"
        }
       ],
       "layout": {
        "template": {
         "data": {
          "bar": [
           {
            "error_x": {
             "color": "#2a3f5f"
            },
            "error_y": {
             "color": "#2a3f5f"
            },
            "marker": {
             "line": {
              "color": "#E5ECF6",
              "width": 0.5
             },
             "pattern": {
              "fillmode": "overlay",
              "size": 10,
              "solidity": 0.2
             }
            },
            "type": "bar"
           }
          ],
          "barpolar": [
           {
            "marker": {
             "line": {
              "color": "#E5ECF6",
              "width": 0.5
             },
             "pattern": {
              "fillmode": "overlay",
              "size": 10,
              "solidity": 0.2
             }
            },
            "type": "barpolar"
           }
          ],
          "carpet": [
           {
            "aaxis": {
             "endlinecolor": "#2a3f5f",
             "gridcolor": "white",
             "linecolor": "white",
             "minorgridcolor": "white",
             "startlinecolor": "#2a3f5f"
            },
            "baxis": {
             "endlinecolor": "#2a3f5f",
             "gridcolor": "white",
             "linecolor": "white",
             "minorgridcolor": "white",
             "startlinecolor": "#2a3f5f"
            },
            "type": "carpet"
           }
          ],
          "choropleth": [
           {
            "colorbar": {
             "outlinewidth": 0,
             "ticks": ""
            },
            "type": "choropleth"
           }
          ],
          "contour": [
           {
            "colorbar": {
             "outlinewidth": 0,
             "ticks": ""
            },
            "colorscale": [
             [
              0,
              "#0d0887"
             ],
             [
              0.1111111111111111,
              "#46039f"
             ],
             [
              0.2222222222222222,
              "#7201a8"
             ],
             [
              0.3333333333333333,
              "#9c179e"
             ],
             [
              0.4444444444444444,
              "#bd3786"
             ],
             [
              0.5555555555555556,
              "#d8576b"
             ],
             [
              0.6666666666666666,
              "#ed7953"
             ],
             [
              0.7777777777777778,
              "#fb9f3a"
             ],
             [
              0.8888888888888888,
              "#fdca26"
             ],
             [
              1,
              "#f0f921"
             ]
            ],
            "type": "contour"
           }
          ],
          "contourcarpet": [
           {
            "colorbar": {
             "outlinewidth": 0,
             "ticks": ""
            },
            "type": "contourcarpet"
           }
          ],
          "heatmap": [
           {
            "colorbar": {
             "outlinewidth": 0,
             "ticks": ""
            },
            "colorscale": [
             [
              0,
              "#0d0887"
             ],
             [
              0.1111111111111111,
              "#46039f"
             ],
             [
              0.2222222222222222,
              "#7201a8"
             ],
             [
              0.3333333333333333,
              "#9c179e"
             ],
             [
              0.4444444444444444,
              "#bd3786"
             ],
             [
              0.5555555555555556,
              "#d8576b"
             ],
             [
              0.6666666666666666,
              "#ed7953"
             ],
             [
              0.7777777777777778,
              "#fb9f3a"
             ],
             [
              0.8888888888888888,
              "#fdca26"
             ],
             [
              1,
              "#f0f921"
             ]
            ],
            "type": "heatmap"
           }
          ],
          "heatmapgl": [
           {
            "colorbar": {
             "outlinewidth": 0,
             "ticks": ""
            },
            "colorscale": [
             [
              0,
              "#0d0887"
             ],
             [
              0.1111111111111111,
              "#46039f"
             ],
             [
              0.2222222222222222,
              "#7201a8"
             ],
             [
              0.3333333333333333,
              "#9c179e"
             ],
             [
              0.4444444444444444,
              "#bd3786"
             ],
             [
              0.5555555555555556,
              "#d8576b"
             ],
             [
              0.6666666666666666,
              "#ed7953"
             ],
             [
              0.7777777777777778,
              "#fb9f3a"
             ],
             [
              0.8888888888888888,
              "#fdca26"
             ],
             [
              1,
              "#f0f921"
             ]
            ],
            "type": "heatmapgl"
           }
          ],
          "histogram": [
           {
            "marker": {
             "pattern": {
              "fillmode": "overlay",
              "size": 10,
              "solidity": 0.2
             }
            },
            "type": "histogram"
           }
          ],
          "histogram2d": [
           {
            "colorbar": {
             "outlinewidth": 0,
             "ticks": ""
            },
            "colorscale": [
             [
              0,
              "#0d0887"
             ],
             [
              0.1111111111111111,
              "#46039f"
             ],
             [
              0.2222222222222222,
              "#7201a8"
             ],
             [
              0.3333333333333333,
              "#9c179e"
             ],
             [
              0.4444444444444444,
              "#bd3786"
             ],
             [
              0.5555555555555556,
              "#d8576b"
             ],
             [
              0.6666666666666666,
              "#ed7953"
             ],
             [
              0.7777777777777778,
              "#fb9f3a"
             ],
             [
              0.8888888888888888,
              "#fdca26"
             ],
             [
              1,
              "#f0f921"
             ]
            ],
            "type": "histogram2d"
           }
          ],
          "histogram2dcontour": [
           {
            "colorbar": {
             "outlinewidth": 0,
             "ticks": ""
            },
            "colorscale": [
             [
              0,
              "#0d0887"
             ],
             [
              0.1111111111111111,
              "#46039f"
             ],
             [
              0.2222222222222222,
              "#7201a8"
             ],
             [
              0.3333333333333333,
              "#9c179e"
             ],
             [
              0.4444444444444444,
              "#bd3786"
             ],
             [
              0.5555555555555556,
              "#d8576b"
             ],
             [
              0.6666666666666666,
              "#ed7953"
             ],
             [
              0.7777777777777778,
              "#fb9f3a"
             ],
             [
              0.8888888888888888,
              "#fdca26"
             ],
             [
              1,
              "#f0f921"
             ]
            ],
            "type": "histogram2dcontour"
           }
          ],
          "mesh3d": [
           {
            "colorbar": {
             "outlinewidth": 0,
             "ticks": ""
            },
            "type": "mesh3d"
           }
          ],
          "parcoords": [
           {
            "line": {
             "colorbar": {
              "outlinewidth": 0,
              "ticks": ""
             }
            },
            "type": "parcoords"
           }
          ],
          "pie": [
           {
            "automargin": true,
            "type": "pie"
           }
          ],
          "scatter": [
           {
            "fillpattern": {
             "fillmode": "overlay",
             "size": 10,
             "solidity": 0.2
            },
            "type": "scatter"
           }
          ],
          "scatter3d": [
           {
            "line": {
             "colorbar": {
              "outlinewidth": 0,
              "ticks": ""
             }
            },
            "marker": {
             "colorbar": {
              "outlinewidth": 0,
              "ticks": ""
             }
            },
            "type": "scatter3d"
           }
          ],
          "scattercarpet": [
           {
            "marker": {
             "colorbar": {
              "outlinewidth": 0,
              "ticks": ""
             }
            },
            "type": "scattercarpet"
           }
          ],
          "scattergeo": [
           {
            "marker": {
             "colorbar": {
              "outlinewidth": 0,
              "ticks": ""
             }
            },
            "type": "scattergeo"
           }
          ],
          "scattergl": [
           {
            "marker": {
             "colorbar": {
              "outlinewidth": 0,
              "ticks": ""
             }
            },
            "type": "scattergl"
           }
          ],
          "scattermapbox": [
           {
            "marker": {
             "colorbar": {
              "outlinewidth": 0,
              "ticks": ""
             }
            },
            "type": "scattermapbox"
           }
          ],
          "scatterpolar": [
           {
            "marker": {
             "colorbar": {
              "outlinewidth": 0,
              "ticks": ""
             }
            },
            "type": "scatterpolar"
           }
          ],
          "scatterpolargl": [
           {
            "marker": {
             "colorbar": {
              "outlinewidth": 0,
              "ticks": ""
             }
            },
            "type": "scatterpolargl"
           }
          ],
          "scatterternary": [
           {
            "marker": {
             "colorbar": {
              "outlinewidth": 0,
              "ticks": ""
             }
            },
            "type": "scatterternary"
           }
          ],
          "surface": [
           {
            "colorbar": {
             "outlinewidth": 0,
             "ticks": ""
            },
            "colorscale": [
             [
              0,
              "#0d0887"
             ],
             [
              0.1111111111111111,
              "#46039f"
             ],
             [
              0.2222222222222222,
              "#7201a8"
             ],
             [
              0.3333333333333333,
              "#9c179e"
             ],
             [
              0.4444444444444444,
              "#bd3786"
             ],
             [
              0.5555555555555556,
              "#d8576b"
             ],
             [
              0.6666666666666666,
              "#ed7953"
             ],
             [
              0.7777777777777778,
              "#fb9f3a"
             ],
             [
              0.8888888888888888,
              "#fdca26"
             ],
             [
              1,
              "#f0f921"
             ]
            ],
            "type": "surface"
           }
          ],
          "table": [
           {
            "cells": {
             "fill": {
              "color": "#EBF0F8"
             },
             "line": {
              "color": "white"
             }
            },
            "header": {
             "fill": {
              "color": "#C8D4E3"
             },
             "line": {
              "color": "white"
             }
            },
            "type": "table"
           }
          ]
         },
         "layout": {
          "annotationdefaults": {
           "arrowcolor": "#2a3f5f",
           "arrowhead": 0,
           "arrowwidth": 1
          },
          "autotypenumbers": "strict",
          "coloraxis": {
           "colorbar": {
            "outlinewidth": 0,
            "ticks": ""
           }
          },
          "colorscale": {
           "diverging": [
            [
             0,
             "#8e0152"
            ],
            [
             0.1,
             "#c51b7d"
            ],
            [
             0.2,
             "#de77ae"
            ],
            [
             0.3,
             "#f1b6da"
            ],
            [
             0.4,
             "#fde0ef"
            ],
            [
             0.5,
             "#f7f7f7"
            ],
            [
             0.6,
             "#e6f5d0"
            ],
            [
             0.7,
             "#b8e186"
            ],
            [
             0.8,
             "#7fbc41"
            ],
            [
             0.9,
             "#4d9221"
            ],
            [
             1,
             "#276419"
            ]
           ],
           "sequential": [
            [
             0,
             "#0d0887"
            ],
            [
             0.1111111111111111,
             "#46039f"
            ],
            [
             0.2222222222222222,
             "#7201a8"
            ],
            [
             0.3333333333333333,
             "#9c179e"
            ],
            [
             0.4444444444444444,
             "#bd3786"
            ],
            [
             0.5555555555555556,
             "#d8576b"
            ],
            [
             0.6666666666666666,
             "#ed7953"
            ],
            [
             0.7777777777777778,
             "#fb9f3a"
            ],
            [
             0.8888888888888888,
             "#fdca26"
            ],
            [
             1,
             "#f0f921"
            ]
           ],
           "sequentialminus": [
            [
             0,
             "#0d0887"
            ],
            [
             0.1111111111111111,
             "#46039f"
            ],
            [
             0.2222222222222222,
             "#7201a8"
            ],
            [
             0.3333333333333333,
             "#9c179e"
            ],
            [
             0.4444444444444444,
             "#bd3786"
            ],
            [
             0.5555555555555556,
             "#d8576b"
            ],
            [
             0.6666666666666666,
             "#ed7953"
            ],
            [
             0.7777777777777778,
             "#fb9f3a"
            ],
            [
             0.8888888888888888,
             "#fdca26"
            ],
            [
             1,
             "#f0f921"
            ]
           ]
          },
          "colorway": [
           "#636efa",
           "#EF553B",
           "#00cc96",
           "#ab63fa",
           "#FFA15A",
           "#19d3f3",
           "#FF6692",
           "#B6E880",
           "#FF97FF",
           "#FECB52"
          ],
          "font": {
           "color": "#2a3f5f"
          },
          "geo": {
           "bgcolor": "white",
           "lakecolor": "white",
           "landcolor": "#E5ECF6",
           "showlakes": true,
           "showland": true,
           "subunitcolor": "white"
          },
          "hoverlabel": {
           "align": "left"
          },
          "hovermode": "closest",
          "mapbox": {
           "style": "light"
          },
          "paper_bgcolor": "white",
          "plot_bgcolor": "#E5ECF6",
          "polar": {
           "angularaxis": {
            "gridcolor": "white",
            "linecolor": "white",
            "ticks": ""
           },
           "bgcolor": "#E5ECF6",
           "radialaxis": {
            "gridcolor": "white",
            "linecolor": "white",
            "ticks": ""
           }
          },
          "scene": {
           "xaxis": {
            "backgroundcolor": "#E5ECF6",
            "gridcolor": "white",
            "gridwidth": 2,
            "linecolor": "white",
            "showbackground": true,
            "ticks": "",
            "zerolinecolor": "white"
           },
           "yaxis": {
            "backgroundcolor": "#E5ECF6",
            "gridcolor": "white",
            "gridwidth": 2,
            "linecolor": "white",
            "showbackground": true,
            "ticks": "",
            "zerolinecolor": "white"
           },
           "zaxis": {
            "backgroundcolor": "#E5ECF6",
            "gridcolor": "white",
            "gridwidth": 2,
            "linecolor": "white",
            "showbackground": true,
            "ticks": "",
            "zerolinecolor": "white"
           }
          },
          "shapedefaults": {
           "line": {
            "color": "#2a3f5f"
           }
          },
          "ternary": {
           "aaxis": {
            "gridcolor": "white",
            "linecolor": "white",
            "ticks": ""
           },
           "baxis": {
            "gridcolor": "white",
            "linecolor": "white",
            "ticks": ""
           },
           "bgcolor": "#E5ECF6",
           "caxis": {
            "gridcolor": "white",
            "linecolor": "white",
            "ticks": ""
           }
          },
          "title": {
           "x": 0.05
          },
          "xaxis": {
           "automargin": true,
           "gridcolor": "white",
           "linecolor": "white",
           "ticks": "",
           "title": {
            "standoff": 15
           },
           "zerolinecolor": "white",
           "zerolinewidth": 2
          },
          "yaxis": {
           "automargin": true,
           "gridcolor": "white",
           "linecolor": "white",
           "ticks": "",
           "title": {
            "standoff": 15
           },
           "zerolinecolor": "white",
           "zerolinewidth": 2
          }
         }
        }
       }
      }
     },
     "metadata": {},
     "output_type": "display_data"
    }
   ],
   "source": [
    "# check model accuracy\n",
    "accuracy_score(y_test, y_pred)\n",
    "\n",
    "# using plotly to visualize the model accuracy\n",
    "import plotly.graph_objects as go\n",
    "\n",
    "fig = go.Figure(data=[go.Table(\n",
    "    header=dict(values=['Metric', 'Value']),\n",
    "    cells=dict(values=[['Accuracy', 'Precision', 'Recall', 'F1'], [accuracy, 0.86, 0.86, 0.86]]))\n",
    "])\n",
    "\n",
    "fig.show()"
   ]
  },
  {
   "cell_type": "code",
   "execution_count": null,
   "metadata": {},
   "outputs": [],
   "source": []
  },
  {
   "cell_type": "code",
   "execution_count": null,
   "metadata": {},
   "outputs": [],
   "source": [
    "\n"
   ]
  }
 ],
 "metadata": {
  "kernelspec": {
   "display_name": "base",
   "language": "python",
   "name": "python3"
  },
  "language_info": {
   "codemirror_mode": {
    "name": "ipython",
    "version": 3
   },
   "file_extension": ".py",
   "mimetype": "text/x-python",
   "name": "python",
   "nbconvert_exporter": "python",
   "pygments_lexer": "ipython3",
   "version": "3.12.7"
  }
 },
 "nbformat": 4,
 "nbformat_minor": 2
}
